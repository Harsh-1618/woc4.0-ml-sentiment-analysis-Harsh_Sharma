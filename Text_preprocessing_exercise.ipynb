{
 "cells": [
  {
   "cell_type": "code",
   "execution_count": 1,
   "id": "a64dc13d",
   "metadata": {},
   "outputs": [],
   "source": [
    "import pandas as pd\n",
    "import re"
   ]
  },
  {
   "cell_type": "code",
   "execution_count": 3,
   "id": "f0fca90c",
   "metadata": {},
   "outputs": [
    {
     "data": {
      "text/html": [
       "<div>\n",
       "<style scoped>\n",
       "    .dataframe tbody tr th:only-of-type {\n",
       "        vertical-align: middle;\n",
       "    }\n",
       "\n",
       "    .dataframe tbody tr th {\n",
       "        vertical-align: top;\n",
       "    }\n",
       "\n",
       "    .dataframe thead th {\n",
       "        text-align: right;\n",
       "    }\n",
       "</style>\n",
       "<table border=\"1\" class=\"dataframe\">\n",
       "  <thead>\n",
       "    <tr style=\"text-align: right;\">\n",
       "      <th></th>\n",
       "      <th>Review</th>\n",
       "      <th>Rating</th>\n",
       "    </tr>\n",
       "  </thead>\n",
       "  <tbody>\n",
       "    <tr>\n",
       "      <th>0</th>\n",
       "      <td>nice hotel expensive parking got good deal sta...</td>\n",
       "      <td>4</td>\n",
       "    </tr>\n",
       "    <tr>\n",
       "      <th>1</th>\n",
       "      <td>ok nothing special charge diamond member hilto...</td>\n",
       "      <td>2</td>\n",
       "    </tr>\n",
       "    <tr>\n",
       "      <th>2</th>\n",
       "      <td>nice rooms not 4* experience hotel monaco seat...</td>\n",
       "      <td>3</td>\n",
       "    </tr>\n",
       "    <tr>\n",
       "      <th>3</th>\n",
       "      <td>unique, great stay, wonderful time hotel monac...</td>\n",
       "      <td>5</td>\n",
       "    </tr>\n",
       "    <tr>\n",
       "      <th>4</th>\n",
       "      <td>great stay great stay, went seahawk game aweso...</td>\n",
       "      <td>5</td>\n",
       "    </tr>\n",
       "    <tr>\n",
       "      <th>...</th>\n",
       "      <td>...</td>\n",
       "      <td>...</td>\n",
       "    </tr>\n",
       "    <tr>\n",
       "      <th>20486</th>\n",
       "      <td>best kept secret 3rd time staying charm, not 5...</td>\n",
       "      <td>5</td>\n",
       "    </tr>\n",
       "    <tr>\n",
       "      <th>20487</th>\n",
       "      <td>great location price view hotel great quick pl...</td>\n",
       "      <td>4</td>\n",
       "    </tr>\n",
       "    <tr>\n",
       "      <th>20488</th>\n",
       "      <td>ok just looks nice modern outside, desk staff ...</td>\n",
       "      <td>2</td>\n",
       "    </tr>\n",
       "    <tr>\n",
       "      <th>20489</th>\n",
       "      <td>hotel theft ruined vacation hotel opened sept ...</td>\n",
       "      <td>1</td>\n",
       "    </tr>\n",
       "    <tr>\n",
       "      <th>20490</th>\n",
       "      <td>people talking, ca n't believe excellent ratin...</td>\n",
       "      <td>2</td>\n",
       "    </tr>\n",
       "  </tbody>\n",
       "</table>\n",
       "<p>20491 rows × 2 columns</p>\n",
       "</div>"
      ],
      "text/plain": [
       "                                                  Review  Rating\n",
       "0      nice hotel expensive parking got good deal sta...       4\n",
       "1      ok nothing special charge diamond member hilto...       2\n",
       "2      nice rooms not 4* experience hotel monaco seat...       3\n",
       "3      unique, great stay, wonderful time hotel monac...       5\n",
       "4      great stay great stay, went seahawk game aweso...       5\n",
       "...                                                  ...     ...\n",
       "20486  best kept secret 3rd time staying charm, not 5...       5\n",
       "20487  great location price view hotel great quick pl...       4\n",
       "20488  ok just looks nice modern outside, desk staff ...       2\n",
       "20489  hotel theft ruined vacation hotel opened sept ...       1\n",
       "20490  people talking, ca n't believe excellent ratin...       2\n",
       "\n",
       "[20491 rows x 2 columns]"
      ]
     },
     "execution_count": 3,
     "metadata": {},
     "output_type": "execute_result"
    }
   ],
   "source": [
    "data = pd.read_csv('tripadvisor_hotel_reviews.csv')\n",
    "data"
   ]
  },
  {
   "cell_type": "code",
   "execution_count": 4,
   "id": "7c397fcd",
   "metadata": {},
   "outputs": [
    {
     "data": {
      "text/plain": [
       "20491"
      ]
     },
     "execution_count": 4,
     "metadata": {},
     "output_type": "execute_result"
    }
   ],
   "source": [
    "length = len(data.Review)\n",
    "length"
   ]
  },
  {
   "cell_type": "markdown",
   "id": "c4033099",
   "metadata": {},
   "source": [
    "### Detecting 3 basic sentiments:"
   ]
  },
  {
   "cell_type": "code",
   "execution_count": 5,
   "id": "094f4a42",
   "metadata": {},
   "outputs": [
    {
     "data": {
      "text/html": [
       "<div>\n",
       "<style scoped>\n",
       "    .dataframe tbody tr th:only-of-type {\n",
       "        vertical-align: middle;\n",
       "    }\n",
       "\n",
       "    .dataframe tbody tr th {\n",
       "        vertical-align: top;\n",
       "    }\n",
       "\n",
       "    .dataframe thead th {\n",
       "        text-align: right;\n",
       "    }\n",
       "</style>\n",
       "<table border=\"1\" class=\"dataframe\">\n",
       "  <thead>\n",
       "    <tr style=\"text-align: right;\">\n",
       "      <th></th>\n",
       "      <th>Review</th>\n",
       "      <th>Rating</th>\n",
       "    </tr>\n",
       "  </thead>\n",
       "  <tbody>\n",
       "    <tr>\n",
       "      <th>0</th>\n",
       "      <td>nice hotel expensive parking got good deal sta...</td>\n",
       "      <td>2</td>\n",
       "    </tr>\n",
       "    <tr>\n",
       "      <th>1</th>\n",
       "      <td>ok nothing special charge diamond member hilto...</td>\n",
       "      <td>0</td>\n",
       "    </tr>\n",
       "    <tr>\n",
       "      <th>2</th>\n",
       "      <td>nice rooms not 4* experience hotel monaco seat...</td>\n",
       "      <td>1</td>\n",
       "    </tr>\n",
       "    <tr>\n",
       "      <th>3</th>\n",
       "      <td>unique, great stay, wonderful time hotel monac...</td>\n",
       "      <td>2</td>\n",
       "    </tr>\n",
       "    <tr>\n",
       "      <th>4</th>\n",
       "      <td>great stay great stay, went seahawk game aweso...</td>\n",
       "      <td>2</td>\n",
       "    </tr>\n",
       "    <tr>\n",
       "      <th>...</th>\n",
       "      <td>...</td>\n",
       "      <td>...</td>\n",
       "    </tr>\n",
       "    <tr>\n",
       "      <th>20486</th>\n",
       "      <td>best kept secret 3rd time staying charm, not 5...</td>\n",
       "      <td>2</td>\n",
       "    </tr>\n",
       "    <tr>\n",
       "      <th>20487</th>\n",
       "      <td>great location price view hotel great quick pl...</td>\n",
       "      <td>2</td>\n",
       "    </tr>\n",
       "    <tr>\n",
       "      <th>20488</th>\n",
       "      <td>ok just looks nice modern outside, desk staff ...</td>\n",
       "      <td>0</td>\n",
       "    </tr>\n",
       "    <tr>\n",
       "      <th>20489</th>\n",
       "      <td>hotel theft ruined vacation hotel opened sept ...</td>\n",
       "      <td>0</td>\n",
       "    </tr>\n",
       "    <tr>\n",
       "      <th>20490</th>\n",
       "      <td>people talking, ca n't believe excellent ratin...</td>\n",
       "      <td>0</td>\n",
       "    </tr>\n",
       "  </tbody>\n",
       "</table>\n",
       "<p>20491 rows × 2 columns</p>\n",
       "</div>"
      ],
      "text/plain": [
       "                                                  Review  Rating\n",
       "0      nice hotel expensive parking got good deal sta...       2\n",
       "1      ok nothing special charge diamond member hilto...       0\n",
       "2      nice rooms not 4* experience hotel monaco seat...       1\n",
       "3      unique, great stay, wonderful time hotel monac...       2\n",
       "4      great stay great stay, went seahawk game aweso...       2\n",
       "...                                                  ...     ...\n",
       "20486  best kept secret 3rd time staying charm, not 5...       2\n",
       "20487  great location price view hotel great quick pl...       2\n",
       "20488  ok just looks nice modern outside, desk staff ...       0\n",
       "20489  hotel theft ruined vacation hotel opened sept ...       0\n",
       "20490  people talking, ca n't believe excellent ratin...       0\n",
       "\n",
       "[20491 rows x 2 columns]"
      ]
     },
     "execution_count": 5,
     "metadata": {},
     "output_type": "execute_result"
    }
   ],
   "source": [
    "def sentiment(rating):\n",
    "    if((rating == 1) or (rating == 2)):\n",
    "        return 0\n",
    "    elif(rating == 3):\n",
    "        return 1\n",
    "    elif((rating == 4) or (rating == 5)):\n",
    "        return 2\n",
    "    \n",
    "data.Rating = data['Rating'].apply(sentiment) \n",
    "data"
   ]
  },
  {
   "cell_type": "markdown",
   "id": "5c4f2376",
   "metadata": {},
   "source": [
    "### Dealing with missing values:"
   ]
  },
  {
   "cell_type": "code",
   "execution_count": 6,
   "id": "4108f197",
   "metadata": {},
   "outputs": [
    {
     "name": "stdout",
     "output_type": "stream",
     "text": [
      "<class 'pandas.core.frame.DataFrame'>\n",
      "RangeIndex: 20491 entries, 0 to 20490\n",
      "Data columns (total 2 columns):\n",
      " #   Column  Non-Null Count  Dtype \n",
      "---  ------  --------------  ----- \n",
      " 0   Review  20491 non-null  object\n",
      " 1   Rating  20491 non-null  int64 \n",
      "dtypes: int64(1), object(1)\n",
      "memory usage: 320.3+ KB\n"
     ]
    }
   ],
   "source": [
    "data.info()\n",
    "\n",
    "# There are no null or NaN values in the dataFrame."
   ]
  },
  {
   "cell_type": "markdown",
   "id": "96233e8b",
   "metadata": {},
   "source": [
    "### clean the text and achieve the following:"
   ]
  },
  {
   "cell_type": "code",
   "execution_count": 7,
   "id": "aeac5324",
   "metadata": {},
   "outputs": [
    {
     "data": {
      "text/plain": [
       "'posh hotel husband stayed hilton seattle september 2003 night really liked, stayed queen room bed, bed linens wall paper furniture bathroom really nice, nice view, centrally located, reserved room hotwire.com room 100,  '"
      ]
     },
     "execution_count": 7,
     "metadata": {},
     "output_type": "execute_result"
    }
   ],
   "source": [
    "# A sample of review before changes are done:\n",
    "\n",
    "data.loc[204, 'Review']"
   ]
  },
  {
   "cell_type": "markdown",
   "id": "187cb46a",
   "metadata": {},
   "source": [
    "#### 1) Lower all the text:"
   ]
  },
  {
   "cell_type": "code",
   "execution_count": 8,
   "id": "77c74ae4",
   "metadata": {},
   "outputs": [],
   "source": [
    "for i in range(length):\n",
    "    \n",
    "    hyperlink = re.compile(r'([A-Z])')\n",
    "    hyperlink_match = hyperlink.finditer(data.loc[i, 'Review'])\n",
    "    \n",
    "    for match in hyperlink_match:\n",
    "        print(i)\n",
    "        print(match)\n",
    "        \n",
    "# There are no capital letters to lower them!"
   ]
  },
  {
   "cell_type": "markdown",
   "id": "4cb73ab7",
   "metadata": {},
   "source": [
    "#### 2) Remove all the hyperlinks if present in the text."
   ]
  },
  {
   "cell_type": "code",
   "execution_count": 9,
   "id": "1606c1e9",
   "metadata": {},
   "outputs": [],
   "source": [
    "for i in range(length):\n",
    "    \n",
    "    hyperlink = re.compile(r'([a-zA-Z0-9]+\\.[a-zA-Z]+\\s)')\n",
    "    hyperlink_match = hyperlink.finditer(data.loc[i, 'Review'])\n",
    "    \n",
    "#     for match in hyperlink_match:\n",
    "#         print(i)\n",
    "#         print(match)\n",
    "        \n",
    "    data.loc[i, 'Review'] = hyperlink.sub(r'', data.loc[i, 'Review'])"
   ]
  },
  {
   "cell_type": "markdown",
   "id": "4b026961",
   "metadata": {},
   "source": [
    "#### 3) substituting all the non alphabetical characters(a-z) by ‘ ‘ (space)."
   ]
  },
  {
   "cell_type": "code",
   "execution_count": 10,
   "id": "f0b0fcf1",
   "metadata": {},
   "outputs": [],
   "source": [
    "for i in range(length):\n",
    "    \n",
    "    alpSpace = re.compile(r'([^a-zA-Z])')\n",
    "    alpSpace_match = alpSpace.finditer(data.loc[i, 'Review'])\n",
    "    \n",
    "#     for match in alpSpace_match:\n",
    "#         print(i)\n",
    "#         print(match)\n",
    "        \n",
    "    data.loc[i, 'Review'] = alpSpace.sub(r' ', data.loc[i, 'Review'])"
   ]
  },
  {
   "cell_type": "markdown",
   "id": "92579ef0",
   "metadata": {},
   "source": [
    "#### 4) substituting multiple spaces with a single space."
   ]
  },
  {
   "cell_type": "code",
   "execution_count": 11,
   "id": "c72e8bc7",
   "metadata": {},
   "outputs": [],
   "source": [
    "for i in range(length):\n",
    "    \n",
    "    oneSpace = re.compile(r'(\\s+)')\n",
    "    oneSpace_match = oneSpace.finditer(data.loc[i, 'Review'])\n",
    "    \n",
    "#     for match in oneSpace_match:\n",
    "#         print(i)\n",
    "#         print(match)\n",
    "        \n",
    "    data.loc[i, 'Review'] = oneSpace.sub(r' ', data.loc[i, 'Review'])"
   ]
  },
  {
   "cell_type": "code",
   "execution_count": 12,
   "id": "4111a224",
   "metadata": {},
   "outputs": [
    {
     "data": {
      "text/plain": [
       "'posh hotel husband stayed hilton seattle september night really liked stayed queen room bed bed linens wall paper furniture bathroom really nice nice view centrally located reserved room room '"
      ]
     },
     "execution_count": 12,
     "metadata": {},
     "output_type": "execute_result"
    }
   ],
   "source": [
    "# final output of a sample review after changes are done.\n",
    "\n",
    "data.loc[204, 'Review']"
   ]
  },
  {
   "cell_type": "code",
   "execution_count": 13,
   "id": "ec88db2e",
   "metadata": {},
   "outputs": [],
   "source": [
    "import nltk\n",
    "import string"
   ]
  },
  {
   "cell_type": "code",
   "execution_count": 14,
   "id": "79de91ed",
   "metadata": {},
   "outputs": [],
   "source": [
    "punctuations = string.punctuation\n",
    "#punctuations"
   ]
  },
  {
   "cell_type": "code",
   "execution_count": 15,
   "id": "e5b5927c",
   "metadata": {},
   "outputs": [],
   "source": [
    "stop_words = nltk.corpus.stopwords.words('english')\n",
    "#stop_words"
   ]
  },
  {
   "cell_type": "code",
   "execution_count": 16,
   "id": "0d2bb0a2",
   "metadata": {},
   "outputs": [],
   "source": [
    "ps = nltk.PorterStemmer()"
   ]
  },
  {
   "cell_type": "code",
   "execution_count": 17,
   "id": "b0dc6538",
   "metadata": {},
   "outputs": [],
   "source": [
    "no_nums = re.compile(r'(\\d+\\s|\\s\\d+)')"
   ]
  },
  {
   "cell_type": "code",
   "execution_count": 18,
   "id": "9ee317a9",
   "metadata": {},
   "outputs": [],
   "source": [
    "def NLP_preprocessing(text):\n",
    "    remove_punctuation = [cha for cha in text if cha not in punctuations]          # getting rid of punctuations\n",
    "    no_punctuation = ''.join(remove_punctuation)                                   # joining to make a string of a list\n",
    "    tokens = nltk.word_tokenize(no_punctuation)                                    # tokenizing the string\n",
    "    unnecessary_words_removed = [cha for cha in tokens if cha not in stop_words]   # removing stop words\n",
    "    stemmed = [ps.stem(cha) for cha in unnecessary_words_removed]                  # stemming the list\n",
    "    text = \" \".join(stemmed)                                                       # joining to make a string of a list\n",
    "    \n",
    "    return no_nums.sub(\"\", text)                                                   # returning the string after removing numerical digits"
   ]
  },
  {
   "cell_type": "code",
   "execution_count": 19,
   "id": "56033303",
   "metadata": {},
   "outputs": [],
   "source": [
    "data[\"Review\"] = data.Review.apply(NLP_preprocessing)"
   ]
  },
  {
   "cell_type": "code",
   "execution_count": 20,
   "id": "70a8208c",
   "metadata": {},
   "outputs": [
    {
     "data": {
      "text/html": [
       "<div>\n",
       "<style scoped>\n",
       "    .dataframe tbody tr th:only-of-type {\n",
       "        vertical-align: middle;\n",
       "    }\n",
       "\n",
       "    .dataframe tbody tr th {\n",
       "        vertical-align: top;\n",
       "    }\n",
       "\n",
       "    .dataframe thead th {\n",
       "        text-align: right;\n",
       "    }\n",
       "</style>\n",
       "<table border=\"1\" class=\"dataframe\">\n",
       "  <thead>\n",
       "    <tr style=\"text-align: right;\">\n",
       "      <th></th>\n",
       "      <th>Review</th>\n",
       "      <th>Rating</th>\n",
       "    </tr>\n",
       "  </thead>\n",
       "  <tbody>\n",
       "    <tr>\n",
       "      <th>0</th>\n",
       "      <td>nice hotel expens park got good deal stay hote...</td>\n",
       "      <td>2</td>\n",
       "    </tr>\n",
       "    <tr>\n",
       "      <th>1</th>\n",
       "      <td>ok noth special charg diamond member hilton de...</td>\n",
       "      <td>0</td>\n",
       "    </tr>\n",
       "    <tr>\n",
       "      <th>2</th>\n",
       "      <td>nice room experi hotel monaco seattl good hote...</td>\n",
       "      <td>1</td>\n",
       "    </tr>\n",
       "    <tr>\n",
       "      <th>3</th>\n",
       "      <td>uniqu great stay wonder time hotel monaco loca...</td>\n",
       "      <td>2</td>\n",
       "    </tr>\n",
       "    <tr>\n",
       "      <th>4</th>\n",
       "      <td>great stay great stay went seahawk game awesom...</td>\n",
       "      <td>2</td>\n",
       "    </tr>\n",
       "    <tr>\n",
       "      <th>...</th>\n",
       "      <td>...</td>\n",
       "      <td>...</td>\n",
       "    </tr>\n",
       "    <tr>\n",
       "      <th>20486</th>\n",
       "      <td>best kept secret rd time stay charm star ca n ...</td>\n",
       "      <td>2</td>\n",
       "    </tr>\n",
       "    <tr>\n",
       "      <th>20487</th>\n",
       "      <td>great locat price view hotel great quick place...</td>\n",
       "      <td>2</td>\n",
       "    </tr>\n",
       "    <tr>\n",
       "      <th>20488</th>\n",
       "      <td>ok look nice modern outsid desk staff n partic...</td>\n",
       "      <td>0</td>\n",
       "    </tr>\n",
       "    <tr>\n",
       "      <th>20489</th>\n",
       "      <td>hotel theft ruin vacat hotel open sept guest w...</td>\n",
       "      <td>0</td>\n",
       "    </tr>\n",
       "    <tr>\n",
       "      <th>20490</th>\n",
       "      <td>peopl talk ca n believ excel rate hotel n ye p...</td>\n",
       "      <td>0</td>\n",
       "    </tr>\n",
       "  </tbody>\n",
       "</table>\n",
       "<p>20491 rows × 2 columns</p>\n",
       "</div>"
      ],
      "text/plain": [
       "                                                  Review  Rating\n",
       "0      nice hotel expens park got good deal stay hote...       2\n",
       "1      ok noth special charg diamond member hilton de...       0\n",
       "2      nice room experi hotel monaco seattl good hote...       1\n",
       "3      uniqu great stay wonder time hotel monaco loca...       2\n",
       "4      great stay great stay went seahawk game awesom...       2\n",
       "...                                                  ...     ...\n",
       "20486  best kept secret rd time stay charm star ca n ...       2\n",
       "20487  great locat price view hotel great quick place...       2\n",
       "20488  ok look nice modern outsid desk staff n partic...       0\n",
       "20489  hotel theft ruin vacat hotel open sept guest w...       0\n",
       "20490  peopl talk ca n believ excel rate hotel n ye p...       0\n",
       "\n",
       "[20491 rows x 2 columns]"
      ]
     },
     "execution_count": 20,
     "metadata": {},
     "output_type": "execute_result"
    }
   ],
   "source": [
    "data"
   ]
  }
 ],
 "metadata": {
  "kernelspec": {
   "display_name": "Python 3 (ipykernel)",
   "language": "python",
   "name": "python3"
  },
  "language_info": {
   "codemirror_mode": {
    "name": "ipython",
    "version": 3
   },
   "file_extension": ".py",
   "mimetype": "text/x-python",
   "name": "python",
   "nbconvert_exporter": "python",
   "pygments_lexer": "ipython3",
   "version": "3.9.8"
  }
 },
 "nbformat": 4,
 "nbformat_minor": 5
}

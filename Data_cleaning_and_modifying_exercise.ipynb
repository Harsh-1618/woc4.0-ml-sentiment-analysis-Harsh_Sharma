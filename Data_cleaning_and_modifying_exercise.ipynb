{
 "cells": [
  {
   "cell_type": "code",
   "execution_count": 23,
   "id": "a64dc13d",
   "metadata": {},
   "outputs": [],
   "source": [
    "import pandas as pd\n",
    "import re"
   ]
  },
  {
   "cell_type": "code",
   "execution_count": 24,
   "id": "f0fca90c",
   "metadata": {},
   "outputs": [
    {
     "data": {
      "text/html": [
       "<div>\n",
       "<style scoped>\n",
       "    .dataframe tbody tr th:only-of-type {\n",
       "        vertical-align: middle;\n",
       "    }\n",
       "\n",
       "    .dataframe tbody tr th {\n",
       "        vertical-align: top;\n",
       "    }\n",
       "\n",
       "    .dataframe thead th {\n",
       "        text-align: right;\n",
       "    }\n",
       "</style>\n",
       "<table border=\"1\" class=\"dataframe\">\n",
       "  <thead>\n",
       "    <tr style=\"text-align: right;\">\n",
       "      <th></th>\n",
       "      <th>Review</th>\n",
       "      <th>Rating</th>\n",
       "    </tr>\n",
       "  </thead>\n",
       "  <tbody>\n",
       "    <tr>\n",
       "      <th>0</th>\n",
       "      <td>nice hotel expensive parking got good deal sta...</td>\n",
       "      <td>4</td>\n",
       "    </tr>\n",
       "    <tr>\n",
       "      <th>1</th>\n",
       "      <td>ok nothing special charge diamond member hilto...</td>\n",
       "      <td>2</td>\n",
       "    </tr>\n",
       "    <tr>\n",
       "      <th>2</th>\n",
       "      <td>nice rooms not 4* experience hotel monaco seat...</td>\n",
       "      <td>3</td>\n",
       "    </tr>\n",
       "    <tr>\n",
       "      <th>3</th>\n",
       "      <td>unique, great stay, wonderful time hotel monac...</td>\n",
       "      <td>5</td>\n",
       "    </tr>\n",
       "    <tr>\n",
       "      <th>4</th>\n",
       "      <td>great stay great stay, went seahawk game aweso...</td>\n",
       "      <td>5</td>\n",
       "    </tr>\n",
       "    <tr>\n",
       "      <th>...</th>\n",
       "      <td>...</td>\n",
       "      <td>...</td>\n",
       "    </tr>\n",
       "    <tr>\n",
       "      <th>20486</th>\n",
       "      <td>best kept secret 3rd time staying charm, not 5...</td>\n",
       "      <td>5</td>\n",
       "    </tr>\n",
       "    <tr>\n",
       "      <th>20487</th>\n",
       "      <td>great location price view hotel great quick pl...</td>\n",
       "      <td>4</td>\n",
       "    </tr>\n",
       "    <tr>\n",
       "      <th>20488</th>\n",
       "      <td>ok just looks nice modern outside, desk staff ...</td>\n",
       "      <td>2</td>\n",
       "    </tr>\n",
       "    <tr>\n",
       "      <th>20489</th>\n",
       "      <td>hotel theft ruined vacation hotel opened sept ...</td>\n",
       "      <td>1</td>\n",
       "    </tr>\n",
       "    <tr>\n",
       "      <th>20490</th>\n",
       "      <td>people talking, ca n't believe excellent ratin...</td>\n",
       "      <td>2</td>\n",
       "    </tr>\n",
       "  </tbody>\n",
       "</table>\n",
       "<p>20491 rows × 2 columns</p>\n",
       "</div>"
      ],
      "text/plain": [
       "                                                  Review  Rating\n",
       "0      nice hotel expensive parking got good deal sta...       4\n",
       "1      ok nothing special charge diamond member hilto...       2\n",
       "2      nice rooms not 4* experience hotel monaco seat...       3\n",
       "3      unique, great stay, wonderful time hotel monac...       5\n",
       "4      great stay great stay, went seahawk game aweso...       5\n",
       "...                                                  ...     ...\n",
       "20486  best kept secret 3rd time staying charm, not 5...       5\n",
       "20487  great location price view hotel great quick pl...       4\n",
       "20488  ok just looks nice modern outside, desk staff ...       2\n",
       "20489  hotel theft ruined vacation hotel opened sept ...       1\n",
       "20490  people talking, ca n't believe excellent ratin...       2\n",
       "\n",
       "[20491 rows x 2 columns]"
      ]
     },
     "execution_count": 24,
     "metadata": {},
     "output_type": "execute_result"
    }
   ],
   "source": [
    "data = pd.read_csv('tripadvisor_hotel_reviews.csv')\n",
    "data"
   ]
  },
  {
   "cell_type": "code",
   "execution_count": 25,
   "id": "7c397fcd",
   "metadata": {},
   "outputs": [
    {
     "data": {
      "text/plain": [
       "20491"
      ]
     },
     "execution_count": 25,
     "metadata": {},
     "output_type": "execute_result"
    }
   ],
   "source": [
    "length = len(data.Review)\n",
    "length"
   ]
  },
  {
   "cell_type": "code",
   "execution_count": 26,
   "id": "094f4a42",
   "metadata": {},
   "outputs": [
    {
     "data": {
      "text/html": [
       "<div>\n",
       "<style scoped>\n",
       "    .dataframe tbody tr th:only-of-type {\n",
       "        vertical-align: middle;\n",
       "    }\n",
       "\n",
       "    .dataframe tbody tr th {\n",
       "        vertical-align: top;\n",
       "    }\n",
       "\n",
       "    .dataframe thead th {\n",
       "        text-align: right;\n",
       "    }\n",
       "</style>\n",
       "<table border=\"1\" class=\"dataframe\">\n",
       "  <thead>\n",
       "    <tr style=\"text-align: right;\">\n",
       "      <th></th>\n",
       "      <th>Review</th>\n",
       "      <th>Rating</th>\n",
       "    </tr>\n",
       "  </thead>\n",
       "  <tbody>\n",
       "    <tr>\n",
       "      <th>0</th>\n",
       "      <td>nice hotel expensive parking got good deal sta...</td>\n",
       "      <td>2</td>\n",
       "    </tr>\n",
       "    <tr>\n",
       "      <th>1</th>\n",
       "      <td>ok nothing special charge diamond member hilto...</td>\n",
       "      <td>0</td>\n",
       "    </tr>\n",
       "    <tr>\n",
       "      <th>2</th>\n",
       "      <td>nice rooms not 4* experience hotel monaco seat...</td>\n",
       "      <td>1</td>\n",
       "    </tr>\n",
       "    <tr>\n",
       "      <th>3</th>\n",
       "      <td>unique, great stay, wonderful time hotel monac...</td>\n",
       "      <td>2</td>\n",
       "    </tr>\n",
       "    <tr>\n",
       "      <th>4</th>\n",
       "      <td>great stay great stay, went seahawk game aweso...</td>\n",
       "      <td>2</td>\n",
       "    </tr>\n",
       "    <tr>\n",
       "      <th>...</th>\n",
       "      <td>...</td>\n",
       "      <td>...</td>\n",
       "    </tr>\n",
       "    <tr>\n",
       "      <th>20486</th>\n",
       "      <td>best kept secret 3rd time staying charm, not 5...</td>\n",
       "      <td>2</td>\n",
       "    </tr>\n",
       "    <tr>\n",
       "      <th>20487</th>\n",
       "      <td>great location price view hotel great quick pl...</td>\n",
       "      <td>2</td>\n",
       "    </tr>\n",
       "    <tr>\n",
       "      <th>20488</th>\n",
       "      <td>ok just looks nice modern outside, desk staff ...</td>\n",
       "      <td>0</td>\n",
       "    </tr>\n",
       "    <tr>\n",
       "      <th>20489</th>\n",
       "      <td>hotel theft ruined vacation hotel opened sept ...</td>\n",
       "      <td>0</td>\n",
       "    </tr>\n",
       "    <tr>\n",
       "      <th>20490</th>\n",
       "      <td>people talking, ca n't believe excellent ratin...</td>\n",
       "      <td>0</td>\n",
       "    </tr>\n",
       "  </tbody>\n",
       "</table>\n",
       "<p>20491 rows × 2 columns</p>\n",
       "</div>"
      ],
      "text/plain": [
       "                                                  Review  Rating\n",
       "0      nice hotel expensive parking got good deal sta...       2\n",
       "1      ok nothing special charge diamond member hilto...       0\n",
       "2      nice rooms not 4* experience hotel monaco seat...       1\n",
       "3      unique, great stay, wonderful time hotel monac...       2\n",
       "4      great stay great stay, went seahawk game aweso...       2\n",
       "...                                                  ...     ...\n",
       "20486  best kept secret 3rd time staying charm, not 5...       2\n",
       "20487  great location price view hotel great quick pl...       2\n",
       "20488  ok just looks nice modern outside, desk staff ...       0\n",
       "20489  hotel theft ruined vacation hotel opened sept ...       0\n",
       "20490  people talking, ca n't believe excellent ratin...       0\n",
       "\n",
       "[20491 rows x 2 columns]"
      ]
     },
     "execution_count": 26,
     "metadata": {},
     "output_type": "execute_result"
    }
   ],
   "source": [
    "# Detecting 3 basic sentiments:\n",
    "\n",
    "def sentiment(rating):\n",
    "    if((rating == 1) or (rating == 2)):\n",
    "        return 0\n",
    "    elif(rating == 3):\n",
    "        return 1\n",
    "    elif((rating == 4) or (rating == 5)):\n",
    "        return 2\n",
    "    \n",
    "data.Rating = data['Rating'].apply(sentiment) \n",
    "data"
   ]
  },
  {
   "cell_type": "code",
   "execution_count": 27,
   "id": "4108f197",
   "metadata": {},
   "outputs": [
    {
     "name": "stdout",
     "output_type": "stream",
     "text": [
      "<class 'pandas.core.frame.DataFrame'>\n",
      "RangeIndex: 20491 entries, 0 to 20490\n",
      "Data columns (total 2 columns):\n",
      " #   Column  Non-Null Count  Dtype \n",
      "---  ------  --------------  ----- \n",
      " 0   Review  20491 non-null  object\n",
      " 1   Rating  20491 non-null  int64 \n",
      "dtypes: int64(1), object(1)\n",
      "memory usage: 320.3+ KB\n"
     ]
    }
   ],
   "source": [
    "# Dealing with missing values:\n",
    "\n",
    "data.info()\n",
    "\n",
    "# There are no null or NaN values in the dataFrame."
   ]
  },
  {
   "cell_type": "markdown",
   "id": "96233e8b",
   "metadata": {},
   "source": [
    "### clean the text and achieve the following:"
   ]
  },
  {
   "cell_type": "code",
   "execution_count": 28,
   "id": "aeac5324",
   "metadata": {},
   "outputs": [
    {
     "data": {
      "text/plain": [
       "'posh hotel husband stayed hilton seattle september 2003 night really liked, stayed queen room bed, bed linens wall paper furniture bathroom really nice, nice view, centrally located, reserved room hotwire.com room 100,  '"
      ]
     },
     "execution_count": 28,
     "metadata": {},
     "output_type": "execute_result"
    }
   ],
   "source": [
    "# A sample of review before changes are done:\n",
    "\n",
    "data.loc[204, 'Review']"
   ]
  },
  {
   "cell_type": "code",
   "execution_count": 29,
   "id": "77c74ae4",
   "metadata": {},
   "outputs": [],
   "source": [
    "# Lower all the text:\n",
    "\n",
    "for i in range(length):\n",
    "    \n",
    "    hyperlink = re.compile(r'([A-Z])')\n",
    "    hyperlink_match = hyperlink.finditer(data.loc[i, 'Review'])\n",
    "    \n",
    "    for match in hyperlink_match:\n",
    "        print(i)\n",
    "        print(match)\n",
    "        \n",
    "# There are no capital letters to lower them!"
   ]
  },
  {
   "cell_type": "code",
   "execution_count": 30,
   "id": "1606c1e9",
   "metadata": {},
   "outputs": [],
   "source": [
    "# getting rid of all the hyperlinks (i assumed all of them end with .com)\n",
    "\n",
    "for i in range(length):\n",
    "    \n",
    "    hyperlink = re.compile(r'([a-zA-Z0-9]+\\.com\\s)')\n",
    "    hyperlink_match = hyperlink.finditer(data.loc[i, 'Review'])\n",
    "    \n",
    "#     for match in hyperlink_match:\n",
    "#         print(i)\n",
    "#         print(match)\n",
    "        \n",
    "    data.loc[i, 'Review'] = hyperlink.sub(r'', data.loc[i, 'Review'])"
   ]
  },
  {
   "cell_type": "code",
   "execution_count": 31,
   "id": "f0b0fcf1",
   "metadata": {},
   "outputs": [],
   "source": [
    "# substituting all the non alphabetical characters(a-z) by ‘ ‘ (space).\n",
    "\n",
    "for i in range(length):\n",
    "    \n",
    "    alpSpace = re.compile(r'([^a-zA-Z])')\n",
    "    alpSpace_match = alpSpace.finditer(data.loc[i, 'Review'])\n",
    "    \n",
    "#     for match in alpSpace_match:\n",
    "#         print(i)\n",
    "#         print(match)\n",
    "        \n",
    "    data.loc[i, 'Review'] = alpSpace.sub(r' ', data.loc[i, 'Review'])"
   ]
  },
  {
   "cell_type": "code",
   "execution_count": 32,
   "id": "c72e8bc7",
   "metadata": {},
   "outputs": [],
   "source": [
    "# substituting multiple spaces with a single space.\n",
    "\n",
    "for i in range(length):\n",
    "    \n",
    "    oneSpace = re.compile(r'(\\s+)')\n",
    "    oneSpace_match = oneSpace.finditer(data.loc[i, 'Review'])\n",
    "    \n",
    "#     for match in oneSpace_match:\n",
    "#         print(i)\n",
    "#         print(match)\n",
    "        \n",
    "    data.loc[i, 'Review'] = oneSpace.sub(r' ', data.loc[i, 'Review'])"
   ]
  },
  {
   "cell_type": "code",
   "execution_count": 33,
   "id": "4111a224",
   "metadata": {},
   "outputs": [
    {
     "data": {
      "text/plain": [
       "'posh hotel husband stayed hilton seattle september night really liked stayed queen room bed bed linens wall paper furniture bathroom really nice nice view centrally located reserved room room '"
      ]
     },
     "execution_count": 33,
     "metadata": {},
     "output_type": "execute_result"
    }
   ],
   "source": [
    "# final output of a sample review after changes are done.\n",
    "\n",
    "data.loc[204, 'Review']"
   ]
  }
 ],
 "metadata": {
  "kernelspec": {
   "display_name": "Python 3 (ipykernel)",
   "language": "python",
   "name": "python3"
  },
  "language_info": {
   "codemirror_mode": {
    "name": "ipython",
    "version": 3
   },
   "file_extension": ".py",
   "mimetype": "text/x-python",
   "name": "python",
   "nbconvert_exporter": "python",
   "pygments_lexer": "ipython3",
   "version": "3.9.8"
  }
 },
 "nbformat": 4,
 "nbformat_minor": 5
}
